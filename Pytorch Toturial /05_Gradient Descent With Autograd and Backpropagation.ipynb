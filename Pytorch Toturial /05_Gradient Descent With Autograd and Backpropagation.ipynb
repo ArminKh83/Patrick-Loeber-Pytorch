{
 "cells": [
  {
   "cell_type": "code",
   "execution_count": 1,
   "id": "initial_id",
   "metadata": {
    "collapsed": true,
    "ExecuteTime": {
     "end_time": "2024-05-24T08:53:21.545419Z",
     "start_time": "2024-05-24T08:53:20.836884Z"
    }
   },
   "outputs": [],
   "source": [
    "import numpy as np\n",
    "import torch\n"
   ]
  },
  {
   "cell_type": "code",
   "outputs": [],
   "source": [
    "x = np.array([1, 2, 3, 4], dtype=np.float32)\n",
    "y = np.array([2, 4, 6, 8], dtype=np.float32)\n",
    "\n",
    "w = 0.0\n",
    "\n"
   ],
   "metadata": {
    "collapsed": false,
    "ExecuteTime": {
     "end_time": "2024-05-24T09:11:50.495242Z",
     "start_time": "2024-05-24T09:11:50.491047Z"
    }
   },
   "id": "af0842774391140b",
   "execution_count": 15
  },
  {
   "cell_type": "code",
   "outputs": [],
   "source": [
    "#model prediction \n",
    "\n",
    "def forward(x):\n",
    "    return w * x\n",
    "\n",
    "\n",
    "def loss(y, y_pred):\n",
    "    return ((y - y_pred) ** 2).mean()\n",
    "\n",
    "\n",
    "\n"
   ],
   "metadata": {
    "collapsed": false,
    "ExecuteTime": {
     "end_time": "2024-05-24T09:11:51.314738Z",
     "start_time": "2024-05-24T09:11:51.310368Z"
    }
   },
   "id": "b5833bc8ee3a89bc",
   "execution_count": 16
  },
  {
   "cell_type": "code",
   "outputs": [
    {
     "name": "stdout",
     "output_type": "stream",
     "text": [
      "Prediction before tarining: f(5) = 0.000 \n",
      "epoch 1: w = 1.200, loss = 30.00000000\n",
      "epoch 2: w = 1.680, loss = 4.79999924\n",
      "epoch 3: w = 1.872, loss = 0.76800019\n",
      "epoch 4: w = 1.949, loss = 0.12288000\n",
      "epoch 5: w = 1.980, loss = 0.01966083\n",
      "epoch 6: w = 1.992, loss = 0.00314574\n",
      "epoch 7: w = 1.997, loss = 0.00050331\n",
      "epoch 8: w = 1.999, loss = 0.00008053\n",
      "epoch 9: w = 1.999, loss = 0.00001288\n",
      "epoch 10: w = 2.000, loss = 0.00000206\n",
      "prediction after training : f(5): 10.0\n"
     ]
    }
   ],
   "source": [
    "#MSE =  1/N * (w*x - y ) ** 2 \n",
    "# dJ/dW = 1/N * 2 * x *(w*X - y)\n",
    "\n",
    "\n",
    "def gradient(x, y, y_predicted):\n",
    "    return np.dot(2 * x, y_predicted - y).mean()\n",
    "\n",
    "\n",
    "print(f'Prediction before tarining: f(5) = {forward(5):.3f} ')\n",
    "\n",
    "learning_rate = 0.01\n",
    "\n",
    "n_iter = 10\n",
    "\n",
    "for epoch in range(n_iter):\n",
    "    # prediction forward pass \n",
    "    y_pred = forward(x)\n",
    "\n",
    "    l = loss(y, y_pred)\n",
    "\n",
    "    dw = gradient(x, y, y_pred)\n",
    "\n",
    "    w -= learning_rate * dw\n",
    "\n",
    "    if epoch % 1 == 0:\n",
    "        print(f'epoch {epoch + 1}: w = {w:.3f}, loss = {l:.8f}')\n",
    "\n",
    "print(f'prediction after training : f(5): {forward(5):.3}')"
   ],
   "metadata": {
    "collapsed": false,
    "ExecuteTime": {
     "end_time": "2024-05-24T09:13:10.658296Z",
     "start_time": "2024-05-24T09:13:10.654025Z"
    }
   },
   "id": "d59df77d0450256a",
   "execution_count": 18
  },
  {
   "cell_type": "code",
   "outputs": [
    {
     "name": "stdout",
     "output_type": "stream",
     "text": [
      "Prediction before training: f(5) = 0.000 \n",
      "epoch 1: w = 0.300, loss = 30.00000000\n",
      "epoch 11: w = 1.665, loss = 1.16278565\n",
      "epoch 21: w = 1.934, loss = 0.04506890\n",
      "epoch 31: w = 1.987, loss = 0.00174685\n",
      "epoch 41: w = 1.997, loss = 0.00006770\n",
      "epoch 51: w = 1.999, loss = 0.00000262\n",
      "epoch 61: w = 2.000, loss = 0.00000010\n",
      "epoch 71: w = 2.000, loss = 0.00000000\n",
      "epoch 81: w = 2.000, loss = 0.00000000\n",
      "epoch 91: w = 2.000, loss = 0.00000000\n",
      "epoch 101: w = 2.000, loss = 0.00000000\n",
      "epoch 111: w = 2.000, loss = 0.00000000\n",
      "epoch 121: w = 2.000, loss = 0.00000000\n",
      "epoch 131: w = 2.000, loss = 0.00000000\n",
      "epoch 141: w = 2.000, loss = 0.00000000\n",
      "epoch 151: w = 2.000, loss = 0.00000000\n",
      "epoch 161: w = 2.000, loss = 0.00000000\n",
      "epoch 171: w = 2.000, loss = 0.00000000\n",
      "epoch 181: w = 2.000, loss = 0.00000000\n",
      "epoch 191: w = 2.000, loss = 0.00000000\n",
      "prediction after training : f(5): 10.0\n"
     ]
    }
   ],
   "source": [
    "# replace with torch \n",
    "\n",
    "x = torch.tensor([1, 2, 3, 4], dtype=torch.float32)\n",
    "y = torch.tensor([2, 4, 6, 8], dtype=torch.float32)\n",
    "\n",
    "w = torch.tensor(0.0, dtype=torch.float32, requires_grad=True)\n",
    "\n",
    "\n",
    "def forward(x):\n",
    "    return w * x\n",
    "\n",
    "\n",
    "def loss(y, y_pred):\n",
    "    return ((y - y_pred) ** 2).mean()\n",
    "\n",
    "\n",
    "def gradient(x, y, y_predicted):\n",
    "    return np.dot(2 * x, y_predicted - y).mean()\n",
    "\n",
    "\n",
    "print(f'Prediction before training: f(5) = {forward(5):.3f} ')\n",
    "\n",
    "learning_rate = 0.01\n",
    "\n",
    "n_iter = 200\n",
    "\n",
    "\n",
    "\n",
    "for epoch in range(n_iter):\n",
    "    # prediction forward pass \n",
    "    y_pred = forward(x)\n",
    "\n",
    "    l = loss(y, y_pred)\n",
    "\n",
    "    l.backward()\n",
    "    \n",
    "    with torch.no_grad():\n",
    "        w -= learning_rate * w.grad\n",
    "        \n",
    "    w.grad.zero_()\n",
    "\n",
    "    if epoch % 10 == 0:\n",
    "        print(f'epoch {epoch + 1}: w = {w:.3f}, loss = {l:.8f}')\n",
    "\n",
    "print(f'prediction after training : f(5): {forward(5):.3}')\n",
    "\n",
    "\n"
   ],
   "metadata": {
    "collapsed": false,
    "ExecuteTime": {
     "end_time": "2024-05-24T09:19:13.861988Z",
     "start_time": "2024-05-24T09:19:13.832164Z"
    }
   },
   "id": "76ef7f780208d5cd",
   "execution_count": 21
  }
 ],
 "metadata": {
  "kernelspec": {
   "display_name": "Python 3",
   "language": "python",
   "name": "python3"
  },
  "language_info": {
   "codemirror_mode": {
    "name": "ipython",
    "version": 2
   },
   "file_extension": ".py",
   "mimetype": "text/x-python",
   "name": "python",
   "nbconvert_exporter": "python",
   "pygments_lexer": "ipython2",
   "version": "2.7.6"
  }
 },
 "nbformat": 4,
 "nbformat_minor": 5
}
