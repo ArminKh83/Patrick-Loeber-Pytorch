{
 "cells": [
  {
   "cell_type": "code",
   "execution_count": 7,
   "id": "initial_id",
   "metadata": {
    "collapsed": true,
    "ExecuteTime": {
     "end_time": "2024-05-24T09:55:10.712543Z",
     "start_time": "2024-05-24T09:55:10.709019Z"
    }
   },
   "outputs": [],
   "source": [
    "import torch\n",
    "import torch.nn as nn"
   ]
  },
  {
   "cell_type": "code",
   "outputs": [
    {
     "name": "stdout",
     "output_type": "stream",
     "text": [
      "4 1\n"
     ]
    }
   ],
   "source": [
    "x = torch.tensor([[1], [2], [3], [4]], dtype=torch.float32)\n",
    "y = torch.tensor([[2], [4], [6], [8]], dtype=torch.float32)\n",
    "\n",
    "X_test = torch.tensor([5], dtype=torch.float32)\n",
    "\n",
    "n_samples, n_features = x.shape\n",
    "print(n_samples, n_features)\n",
    "\n",
    "input_size = n_features\n",
    "output_size = n_features\n",
    "# model = nn.Linear(input_size, output_size)\n",
    "\n",
    "\n",
    "class LinearRegression(nn.Module):\n",
    "    def __init__(self, input_dim, output_dim):\n",
    "        super(LinearRegression, self).__init__()\n",
    "        self.lin = nn.Linear(input_dim, output_dim)\n",
    "    def forward(self, x):\n",
    "        return self.lin(x)\n",
    "model = LinearRegression(input_size, output_size)"
   ],
   "metadata": {
    "collapsed": false,
    "ExecuteTime": {
     "end_time": "2024-05-24T10:00:11.523535Z",
     "start_time": "2024-05-24T10:00:11.515289Z"
    }
   },
   "id": "bb3f4c2ef81a6f69",
   "execution_count": 53
  },
  {
   "cell_type": "code",
   "outputs": [
    {
     "name": "stdout",
     "output_type": "stream",
     "text": [
      "prediction before train : f(5) = -5.415\n",
      "epoch 1: w = -0.411, loss = 77.42491150\n",
      "epoch 11: w = 1.604, loss = 2.00329709\n",
      "epoch 21: w = 1.929, loss = 0.05195199\n",
      "epoch 31: w = 1.981, loss = 0.00145894\n",
      "epoch 41: w = 1.990, loss = 0.00014588\n",
      "epoch 51: w = 1.991, loss = 0.00010562\n",
      "epoch 61: w = 1.992, loss = 0.00009865\n",
      "epoch 71: w = 1.992, loss = 0.00009289\n",
      "epoch 81: w = 1.992, loss = 0.00008748\n",
      "epoch 91: w = 1.992, loss = 0.00008239\n",
      "epoch 101: w = 1.993, loss = 0.00007759\n",
      "epoch 111: w = 1.993, loss = 0.00007308\n",
      "epoch 121: w = 1.993, loss = 0.00006882\n",
      "epoch 131: w = 1.993, loss = 0.00006482\n",
      "epoch 141: w = 1.994, loss = 0.00006104\n",
      "epoch 151: w = 1.994, loss = 0.00005749\n",
      "epoch 161: w = 1.994, loss = 0.00005415\n",
      "epoch 171: w = 1.994, loss = 0.00005100\n",
      "epoch 181: w = 1.994, loss = 0.00004803\n",
      "epoch 191: w = 1.994, loss = 0.00004523\n",
      "epoch 201: w = 1.995, loss = 0.00004260\n",
      "epoch 211: w = 1.995, loss = 0.00004012\n",
      "epoch 221: w = 1.995, loss = 0.00003778\n",
      "epoch 231: w = 1.995, loss = 0.00003558\n",
      "epoch 241: w = 1.995, loss = 0.00003351\n",
      "epoch 251: w = 1.995, loss = 0.00003156\n",
      "epoch 261: w = 1.995, loss = 0.00002973\n",
      "epoch 271: w = 1.996, loss = 0.00002799\n",
      "epoch 281: w = 1.996, loss = 0.00002637\n",
      "epoch 291: w = 1.996, loss = 0.00002483\n",
      "prediction after training : f(5): 9.99\n"
     ]
    }
   ],
   "source": [
    "\n",
    "\n",
    "\n",
    "\n",
    "print(f'prediction before train : f(5) = {model(X_test).item():.3f}')\n",
    "\n",
    "learning_rate = 0.01\n",
    "\n",
    "n_iter = 300\n",
    "\n",
    "loss = nn.MSELoss()\n",
    "\n",
    "optimizer = torch.optim.SGD(model.parameters(), lr=learning_rate)\n",
    "\n",
    "for epoch in range(n_iter):\n",
    "    y_pred = model(x)\n",
    "\n",
    "    l = loss(y, y_pred)\n",
    "    l.backward()\n",
    "\n",
    "    optimizer.step()\n",
    "\n",
    "    optimizer.zero_grad()\n",
    "\n",
    "    if epoch % 10 == 0:\n",
    "        [w, b] = model.parameters()\n",
    "        print(f'epoch {epoch + 1}: w = {w[0][0].item():.3f}, loss = {l:.8f}')\n",
    "\n",
    "print(f'prediction after training : f(5): {model(X_test).item():.3}')"
   ],
   "metadata": {
    "collapsed": false,
    "ExecuteTime": {
     "end_time": "2024-05-24T10:00:13.977308Z",
     "start_time": "2024-05-24T10:00:13.924838Z"
    }
   },
   "id": "91b2b038d5e4816e",
   "execution_count": 54
  }
 ],
 "metadata": {
  "kernelspec": {
   "display_name": "Python 3",
   "language": "python",
   "name": "python3"
  },
  "language_info": {
   "codemirror_mode": {
    "name": "ipython",
    "version": 2
   },
   "file_extension": ".py",
   "mimetype": "text/x-python",
   "name": "python",
   "nbconvert_exporter": "python",
   "pygments_lexer": "ipython2",
   "version": "2.7.6"
  }
 },
 "nbformat": 4,
 "nbformat_minor": 5
}
