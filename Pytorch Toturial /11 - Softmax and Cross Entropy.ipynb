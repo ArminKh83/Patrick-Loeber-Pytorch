{
 "cells": [
  {
   "cell_type": "code",
   "outputs": [],
   "source": [
    "import torch\n",
    "import torch.nn as nn\n",
    "import numpy as np\n"
   ],
   "metadata": {
    "collapsed": false,
    "ExecuteTime": {
     "end_time": "2024-05-24T12:24:27.743147Z",
     "start_time": "2024-05-24T12:24:27.739870Z"
    }
   },
   "id": "8c47add7e9912535",
   "execution_count": 3
  },
  {
   "cell_type": "code",
   "outputs": [
    {
     "name": "stdout",
     "output_type": "stream",
     "text": [
      "0.4170299470424652\n"
     ]
    }
   ],
   "source": [
    "loss = nn.CrossEntropyLoss()\n",
    "\n",
    "#only target  so we don't use one hot because it is sparse\n",
    "Y = torch.tensor([0])\n",
    "\n",
    "# nsamples  * nclasses  = 1 * 3 \n",
    "y_pred_good = torch.tensor([[2.0, 1.0, 0.1]])\n",
    "\n",
    "l1 = loss(y_pred_good, Y)\n",
    "\n",
    "print(l1.item())"
   ],
   "metadata": {
    "collapsed": false,
    "ExecuteTime": {
     "end_time": "2024-05-24T12:27:43.778876Z",
     "start_time": "2024-05-24T12:27:43.776138Z"
    }
   },
   "id": "bc1a8497c726a4ce",
   "execution_count": 6
  },
  {
   "cell_type": "code",
   "outputs": [
    {
     "ename": "SyntaxError",
     "evalue": "invalid syntax (2822622897.py, line 16)",
     "output_type": "error",
     "traceback": [
      "\u001B[0;36m  Cell \u001B[0;32mIn[7], line 16\u001B[0;36m\u001B[0m\n\u001B[0;31m    model = NeuralNet2(input_size=28 * 28, hidden_size=, 5, num_classes=3)\u001B[0m\n\u001B[0m                                                       ^\u001B[0m\n\u001B[0;31mSyntaxError\u001B[0m\u001B[0;31m:\u001B[0m invalid syntax\n"
     ]
    }
   ],
   "source": [
    "\n",
    "\n",
    "\n",
    "class NeuralNet2(nn.Module):\n",
    "    def __init__(self, input_size, hidden_size, num_classes):\n",
    "        super(NeuralNet2, self).__init__()\n",
    "        self.linear1 = nn.Linear(input_size, hidden_size)\n",
    "        self.relu = nn.ReLU()\n",
    "        self.linear2 = nn.Linear(hidden_size, num_classes)\n",
    "\n",
    "    def forward(self, x):\n",
    "        out = self.linear1(x)\n",
    "        out = self.relu(out)\n",
    "        out = self.linear2(out)\n",
    "        #no softmax\n",
    "        return out\n",
    "\n",
    "\n",
    "model = NeuralNet2(input_size=28 * 28, hidden_size=, 5, num_classes=3)\n",
    "\n",
    "criterion = nn.CrossEntropyLoss()\n",
    "\n"
   ],
   "metadata": {
    "collapsed": false,
    "ExecuteTime": {
     "end_time": "2024-05-24T12:55:38.663360Z",
     "start_time": "2024-05-24T12:55:38.659477Z"
    }
   },
   "id": "a8c53d933f7ce365",
   "execution_count": 7
  },
  {
   "cell_type": "code",
   "outputs": [],
   "source": [
    "class NeuralNet1(nn.Module):\n",
    "    def __init__(self, input_size, hidden_size):\n",
    "        super(NeuralNet1, self).__init__()\n",
    "        self.linear1 = nn.Linear(input_size, hidden_size)\n",
    "        self.relu = nn.ReLU()\n",
    "        self.linear2 = nn.Linear(hidden_size, 1)\n",
    "        \n",
    "        \n",
    "    def forward(self, x):\n",
    "        out = self.linear1(x)\n",
    "        out = self.relu(out)\n",
    "        out = self.linear2(out)\n",
    "        \n",
    "        y_pred = torch.sigmoid(out)\n",
    "        return y_pred\n",
    "    \n",
    "model = NeuralNet1(input_size = 28 * 28, hidden_size = 5 )\n",
    "\n",
    "criterion = nn.BCELoss\n",
    "    "
   ],
   "metadata": {
    "collapsed": false
   },
   "id": "d232db22e34c268e"
  }
 ],
 "metadata": {
  "kernelspec": {
   "display_name": "Python 3",
   "language": "python",
   "name": "python3"
  },
  "language_info": {
   "codemirror_mode": {
    "name": "ipython",
    "version": 2
   },
   "file_extension": ".py",
   "mimetype": "text/x-python",
   "name": "python",
   "nbconvert_exporter": "python",
   "pygments_lexer": "ipython2",
   "version": "2.7.6"
  }
 },
 "nbformat": 4,
 "nbformat_minor": 5
}
