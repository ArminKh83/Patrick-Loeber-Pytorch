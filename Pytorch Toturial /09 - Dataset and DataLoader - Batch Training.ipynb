{
 "cells": [
  {
   "cell_type": "code",
   "execution_count": 22,
   "id": "initial_id",
   "metadata": {
    "collapsed": true,
    "ExecuteTime": {
     "end_time": "2024-05-24T11:46:00.870988Z",
     "start_time": "2024-05-24T11:46:00.867146Z"
    }
   },
   "outputs": [],
   "source": [
    "import torch\n",
    "import torchvision\n",
    "from torch.utils.data import DataLoader, Dataset\n",
    "import numpy as np\n",
    "import math\n"
   ]
  },
  {
   "cell_type": "code",
   "outputs": [
    {
     "name": "stdout",
     "output_type": "stream",
     "text": [
      "(178, 14)\n",
      "178\n"
     ]
    }
   ],
   "source": [
    "\n",
    "class WineDataset(Dataset):\n",
    "    def __init__(self):\n",
    "        xy = np.loadtxt('./wine.csv', delimiter=',', dtype=np.float32, skiprows=1)\n",
    "        print(xy.shape)\n",
    "        self.x = torch.from_numpy(xy[:, 1:])\n",
    "        self.y = torch.from_numpy(xy[:, [0]])  #n_samples , 1 \n",
    "        self.n_samples = xy.shape[0]\n",
    "\n",
    "    def __getitem__(self, index):\n",
    "        return self.x[index], self.y[index]\n",
    "\n",
    "    def __len__(self):\n",
    "        return self.n_samples\n",
    "\n",
    "\n",
    "dataset = WineDataset()\n",
    "print(len(dataset))\n",
    "\n",
    "dataloader = DataLoader(dataset=dataset, batch_size=4, shuffle=True, num_workers=2)\n",
    "\n"
   ],
   "metadata": {
    "collapsed": false,
    "ExecuteTime": {
     "end_time": "2024-05-24T11:46:19.210974Z",
     "start_time": "2024-05-24T11:46:19.207152Z"
    }
   },
   "id": "b790e0794ec8dc9a",
   "execution_count": 23
  },
  {
   "cell_type": "code",
   "outputs": [
    {
     "name": "stdout",
     "output_type": "stream",
     "text": [
      "epoch 1/2 , step5/45,inputs torch.Size([4, 13])\n",
      "epoch 1/2 , step10/45,inputs torch.Size([4, 13])\n",
      "epoch 1/2 , step15/45,inputs torch.Size([4, 13])\n",
      "epoch 1/2 , step20/45,inputs torch.Size([4, 13])\n",
      "epoch 1/2 , step25/45,inputs torch.Size([4, 13])\n",
      "epoch 1/2 , step30/45,inputs torch.Size([4, 13])\n",
      "epoch 1/2 , step35/45,inputs torch.Size([4, 13])\n",
      "epoch 1/2 , step40/45,inputs torch.Size([4, 13])\n",
      "epoch 1/2 , step45/45,inputs torch.Size([2, 13])\n",
      "epoch 2/2 , step5/45,inputs torch.Size([4, 13])\n",
      "epoch 2/2 , step10/45,inputs torch.Size([4, 13])\n",
      "epoch 2/2 , step15/45,inputs torch.Size([4, 13])\n",
      "epoch 2/2 , step20/45,inputs torch.Size([4, 13])\n",
      "epoch 2/2 , step25/45,inputs torch.Size([4, 13])\n",
      "epoch 2/2 , step30/45,inputs torch.Size([4, 13])\n",
      "epoch 2/2 , step35/45,inputs torch.Size([4, 13])\n",
      "epoch 2/2 , step40/45,inputs torch.Size([4, 13])\n",
      "epoch 2/2 , step45/45,inputs torch.Size([2, 13])\n"
     ]
    }
   ],
   "source": [
    "\n",
    "\n",
    "num_epochs = 2\n",
    "\n",
    "total_samples = len(dataset)\n",
    "n_iterations = math.ceil(total_samples / 4)\n",
    "\n",
    "for epoch in range(num_epochs):\n",
    "    for i, (inputs, labels) in enumerate(dataloader):\n",
    "\n",
    "        if (i + 1) % 5 == 0:\n",
    "            print(f'epoch {epoch + 1}/{num_epochs} , step{i + 1}/{n_iterations},inputs {inputs.shape}')\n"
   ],
   "metadata": {
    "collapsed": false,
    "ExecuteTime": {
     "end_time": "2024-05-24T11:38:14.509278Z",
     "start_time": "2024-05-24T11:38:14.393031Z"
    }
   },
   "id": "d1ff1825dacb2625",
   "execution_count": 20
  }
 ],
 "metadata": {
  "kernelspec": {
   "display_name": "Python 3",
   "language": "python",
   "name": "python3"
  },
  "language_info": {
   "codemirror_mode": {
    "name": "ipython",
    "version": 2
   },
   "file_extension": ".py",
   "mimetype": "text/x-python",
   "name": "python",
   "nbconvert_exporter": "python",
   "pygments_lexer": "ipython2",
   "version": "2.7.6"
  }
 },
 "nbformat": 4,
 "nbformat_minor": 5
}
